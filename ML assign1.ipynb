{
 "cells": [
  {
   "cell_type": "markdown",
   "id": "e88a56b7-54d2-46f1-8541-7e8df595ed06",
   "metadata": {},
   "source": [
    "1.Explain the following with an example:\n",
    "AI\n",
    "ML\n",
    "DL"
   ]
  },
  {
   "cell_type": "markdown",
   "id": "2d8dc18d-470d-4902-b0c4-9eab6b6a5b00",
   "metadata": {},
   "source": [
    "1.AI : Smart application that can perform its own task without any human interventation.\n",
    "2.ML : Subset of AI ,it provides statstool to analyse , visualize , predictive models , forecasting \n",
    "example : Amazon , Netflix\n",
    "3.DL : Mimic the human brain example : object detection, Image recognation ,chatbox"
   ]
  },
  {
   "cell_type": "markdown",
   "id": "8917778d-7b55-4bc7-a9c8-c69a7a5f9466",
   "metadata": {},
   "source": [
    "2.What is supervised learning ? List some example of supervised learning."
   ]
  },
  {
   "cell_type": "markdown",
   "id": "fe91dc51-1a51-4d87-a5d6-7260ff41bcfa",
   "metadata": {},
   "source": [
    "Supervised learning is the type of Machine learning ."
   ]
  },
  {
   "cell_type": "markdown",
   "id": "be86992a-4bca-4f4e-8ffb-87b70693a7ee",
   "metadata": {},
   "source": [
    "Supervised learning has 2 types : classification , regression \n",
    "Classification : We know output feature of the dataset. example: Pass/Fail\n",
    "Regression : We get output as a continuous value. example : Price of the house"
   ]
  },
  {
   "cell_type": "markdown",
   "id": "4e89e35b-ec24-4a31-b32d-487d6aaa3dbf",
   "metadata": {},
   "source": [
    "3.What is unsupervised learning ? List some example of unsupervised learning."
   ]
  },
  {
   "cell_type": "markdown",
   "id": "0aa0d282-edb8-459f-ac69-80e174bf6066",
   "metadata": {},
   "source": [
    "In unsupervised learning there is no output but it clusters which means group of similar data.\n",
    "Example : expenditure vs salary watch store."
   ]
  },
  {
   "cell_type": "markdown",
   "id": "8a756423-6fd2-44eb-8091-9f5718c26e21",
   "metadata": {},
   "source": [
    "4.What is the difference between AI , ML , DL , DS"
   ]
  },
  {
   "cell_type": "markdown",
   "id": "aadad2c5-c121-40c7-83dd-c09ffbd5339a",
   "metadata": {},
   "source": [
    "Artificial Intelligence uses logic and decision trees. Machine Learning uses statistical models. Data Science deals with structured and unstructured data. "
   ]
  },
  {
   "cell_type": "markdown",
   "id": "b365a175-52e0-4ead-be75-40c965061a8c",
   "metadata": {},
   "source": [
    "5.What are the main differences between supervised , unsupervised , semi supervised."
   ]
  },
  {
   "cell_type": "markdown",
   "id": "c90bc6f9-8883-417f-b8e7-d63adaa15b62",
   "metadata": {},
   "source": [
    "Supervised learning has 2 types : classification , regression \n",
    "Classification : We know output feature of the dataset. example: Pass/Fail\n",
    "Regression : We get output as a continuous value. example : Price of the house"
   ]
  },
  {
   "cell_type": "markdown",
   "id": "fd68b6b8-849e-4a6d-ac03-221cf546d223",
   "metadata": {},
   "source": [
    "In unsupervised learning there is no output but it clusters which means group of similar data. Example : expenditure vs salary watch store."
   ]
  },
  {
   "cell_type": "markdown",
   "id": "d9e47170-780f-4f52-a23c-3e7243deadfc",
   "metadata": {},
   "source": [
    "Semi supervised : supervised + unsupervised"
   ]
  },
  {
   "cell_type": "markdown",
   "id": "aa06af9c-60c7-41d4-8a77-20e565824243",
   "metadata": {},
   "source": [
    "Q6- What is train, test and validation split? Explain the important of each them."
   ]
  },
  {
   "cell_type": "markdown",
   "id": "68c2b56f-54ef-4ad0-8136-c6f62ed62c54",
   "metadata": {},
   "source": [
    "Train : We will train our models\n",
    "Validation : Hyper Tuning of the model\n",
    "Test : Model will be test"
   ]
  },
  {
   "cell_type": "markdown",
   "id": "ef4ef6be-184c-486c-ab3e-7ebd96e4272a",
   "metadata": {},
   "source": [
    "Example : Books : Train , explore Different books : Validation , Ouestion paper : Test"
   ]
  },
  {
   "cell_type": "markdown",
   "id": "21e6be24-f85a-4bb4-a11f-333ef3da359d",
   "metadata": {},
   "source": [
    "7.How can unsupervised learning be used in anomaly detection?"
   ]
  },
  {
   "cell_type": "markdown",
   "id": "f3c060d5-d7f2-4935-a460-ab2215109289",
   "metadata": {},
   "source": [
    "Unsupervised anomaly detection involves an unlabeled dataset. It assumes that the majority data points in the unlabeled dataset are “normal” and it looks for data points that differs from the “normal” data points."
   ]
  },
  {
   "cell_type": "markdown",
   "id": "f489d9fc-ba47-4428-a1ff-0530a8d472d3",
   "metadata": {},
   "source": [
    "8.List some commenly used supervised learning algorithms and unsupervised learning algorithms."
   ]
  },
  {
   "cell_type": "markdown",
   "id": "fbddae64",
   "metadata": {},
   "source": [
    "The most commonly used Supervised Learning algorithms are decision tree, logistic regression, linear regression, support vector machine. The most commonly used Unsupervised Learning algorithms are k-means clustering, hierarchical clustering, and apriori algorithm."
   ]
  },
  {
   "cell_type": "code",
   "execution_count": null,
   "id": "e9dc4b0d-7a39-4dff-9e5d-c76111afb556",
   "metadata": {},
   "outputs": [],
   "source": []
  }
 ],
 "metadata": {
  "kernelspec": {
   "display_name": "Python 3 (ipykernel)",
   "language": "python",
   "name": "python3"
  },
  "language_info": {
   "codemirror_mode": {
    "name": "ipython",
    "version": 3
   },
   "file_extension": ".py",
   "mimetype": "text/x-python",
   "name": "python",
   "nbconvert_exporter": "python",
   "pygments_lexer": "ipython3",
   "version": "3.10.8"
  }
 },
 "nbformat": 4,
 "nbformat_minor": 5
}
